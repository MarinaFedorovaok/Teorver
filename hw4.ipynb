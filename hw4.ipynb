{
 "cells": [
  {
   "cell_type": "markdown",
   "metadata": {},
   "source": [
    "1. Случайная непрерывная величина A имеет равномерное распределение на промежутке (200, 800].\n",
    "Найдите ее среднее значение и дисперсию."
   ]
  },
  {
   "cell_type": "code",
   "execution_count": 1,
   "metadata": {},
   "outputs": [
    {
     "name": "stdout",
     "output_type": "stream",
     "text": [
      "500.0\n"
     ]
    }
   ],
   "source": [
    "def M(a, b):\n",
    "    return (a+b)/2\n",
    "print(M(200,800))"
   ]
  },
  {
   "cell_type": "code",
   "execution_count": 3,
   "metadata": {},
   "outputs": [
    {
     "name": "stdout",
     "output_type": "stream",
     "text": [
      "30000.0\n"
     ]
    }
   ],
   "source": [
    "def D(a, b):\n",
    "    return((b-a)**2/12)\n",
    "print(D(200,800))"
   ]
  },
  {
   "cell_type": "markdown",
   "metadata": {},
   "source": [
    "2. О случайной непрерывной равномерно распределенной величине B известно, что ее дисперсия равна 0.2.\n",
    "Можно ли найти правую границу величины B и ее среднее значение зная, что левая граница равна 0.5?\n",
    "Если да, найдите ее."
   ]
  },
  {
   "cell_type": "markdown",
   "metadata": {},
   "source": [
    "D = (b-a)**/12\n",
    "0.2 = (b-0.5)**2/12\n",
    "0.2*12 = (b-0.5)**2\n",
    "2.4 = b**2 - b + 0.25\n",
    "a = b**2 - b - 2.15"
   ]
  },
  {
   "cell_type": "code",
   "execution_count": 4,
   "metadata": {},
   "outputs": [
    {
     "name": "stdout",
     "output_type": "stream",
     "text": [
      "The solutions are (-0.8165364503850772+0j) and (1.3165364503850772+0j)\n"
     ]
    }
   ],
   "source": [
    "import cmath \n",
    "a = 2\n",
    "b = -1\n",
    "c = -2.15\n",
    " \n",
    "# calculate the discriminant \n",
    "d =(b**2) -(4*a*c) \n",
    " \n",
    "# find two solutions \n",
    "sol1 =(-b-cmath.sqrt(d))/(2*a) \n",
    "sol2 =(-b+cmath.sqrt(d))/(2*a) \n",
    "print('The solutions are {0} and {1}'.format(sol1,sol2))  \n"
   ]
  }
 ],
 "metadata": {
  "kernelspec": {
   "display_name": "Python 3.8.10 64-bit",
   "language": "python",
   "name": "python3"
  },
  "language_info": {
   "codemirror_mode": {
    "name": "ipython",
    "version": 3
   },
   "file_extension": ".py",
   "mimetype": "text/x-python",
   "name": "python",
   "nbconvert_exporter": "python",
   "pygments_lexer": "ipython3",
   "version": "3.8.10"
  },
  "orig_nbformat": 4,
  "vscode": {
   "interpreter": {
    "hash": "570feb405e2e27c949193ac68f46852414290d515b0ba6e5d90d076ed2284471"
   }
  }
 },
 "nbformat": 4,
 "nbformat_minor": 2
}
